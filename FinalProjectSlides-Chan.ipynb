{
 "cells": [
  {
   "cell_type": "markdown",
   "metadata": {
    "slideshow": {
     "slide_type": "slide"
    }
   },
   "source": [
    "# IS-362 Final Project\n",
    "\n",
    "## by Joe Chan"
   ]
  },
  {
   "cell_type": "markdown",
   "metadata": {
    "slideshow": {
     "slide_type": "subslide"
    }
   },
   "source": [
    "# Overview\n",
    "\n",
    "** This is a presentation of the results of the IS-362 Project **\n",
    "\n",
    "** This presentation was created from Jupyter Notebook Slides **"
   ]
  },
  {
   "cell_type": "markdown",
   "metadata": {
    "slideshow": {
     "slide_type": "slide"
    }
   },
   "source": [
    "Description\n",
    "-----------------------------------------------\n",
    "The Final Project will analyze the data from the Student Performance Data Set found at:\n",
    "\n",
    "**https://archive.ics.uci.edu/ml/datasets/student+performance**\n",
    "\n",
    "The data set predicts student performance in secondary education (high school) in two schools in the country of Portugal.\n",
    "The data set characteristics are Multivariate, the attribute characteristics are Integer, and the associated tasks are Classification and Regression.  The number of instances is 649 and the number of attributes is 33.  There are no missing values.  The data was donated on November 27, 2014. \n",
    "\n",
    "The data attributes include student grades (G1, G2, and G3), demographic, social, and school-related features.  The data was collected using school reports and questionaires.  The two datasets were provided for performance in the subjects of Mathematics and Portuguese language.  G3 is the final year grade and G1 and G2 cover the 1st and 2nd semester.  \n",
    "\n",
    "The data set included two CSV files called **student-por.csv** and **student-mat.csv**\n",
    "\n",
    "The final project will convert the two CSV files into Data Frames using two methods.  The student-por.csv will be read from a URL.  The student-mat.csv will be read in from a relational database using an SQL query. "
   ]
  },
  {
   "cell_type": "code",
   "execution_count": 2,
   "metadata": {
    "slideshow": {
     "slide_type": "slide"
    }
   },
   "outputs": [],
   "source": [
    "import numpy as np\n",
    "import pandas as pd\n",
    "from datetime import date\n",
    "from pandas import DataFrame, Series\n",
    "import sqlalchemy as sqla\n",
    "import mysql.connector\n",
    "import matplotlib as mpl\n",
    "import matplotlib.pyplot as plt\n",
    "%matplotlib inline\n",
    "import seaborn as sns\n",
    "from sklearn import metrics\n",
    "from sklearn.cross_validation import train_test_split\n",
    "from sklearn.linear_model import LinearRegression\n",
    "\n",
    "#Create the por_df DataFrame from the student-por CSV file from the web\n",
    "url = \"https://raw.githubusercontent.com/jchan3/IS-362/master/student-por.csv\"\n",
    "por_df = pd.read_csv(url, delimiter=';')\n",
    "#print (por_df.head())\n",
    "\n",
    "#connect to Mysql database final_project\n",
    "cnx = mysql.connector.connect(host='localhost',database='final_project',user='user2',password='temp')\n",
    "\n",
    "#create sql query to collect data from the studentmat table in the RDBMS\n",
    "sql = '''SELECT *\n",
    "FROM studentmat'''\n",
    "\n",
    "#convert the sql query results into the math_df DataFrame\n",
    "math_df = pd.read_sql(sql, con=cnx)\n",
    "\n",
    "#display the DataFrame results\n",
    "#print (math_df.head())\n",
    "#print (por_df.head())\n",
    "\n",
    "#close the Mysql database connection\n",
    "cnx.close()"
   ]
  },
  {
   "cell_type": "markdown",
   "metadata": {
    "slideshow": {
     "slide_type": "slide"
    }
   },
   "source": [
    "A copy of the student data frame (por_df and math_df) is created with only 7 attributes and the 3 grade results."
   ]
  },
  {
   "cell_type": "code",
   "execution_count": 3,
   "metadata": {
    "slideshow": {
     "slide_type": "slide"
    }
   },
   "outputs": [
    {
     "name": "stdout",
     "output_type": "stream",
     "text": [
      "  sex famsize Pstatus  studytime  failures famsup  absences  G1  G2  G3\n",
      "0   F     GT3       A          2         0     no         4   0  11  11\n",
      "1   F     GT3       T          2         0    yes         2   9  11  11\n",
      "2   F     LE3       T          2         0     no         6  12  13  12\n",
      "3   F     GT3       T          3         0    yes         0  14  14  14\n",
      "4   F     GT3       T          2         0    yes         0  11  13  13\n",
      "  sex famsize Pstatus  studytime  failures famsup  absences  G1  G2  G3\n",
      "0   F     GT3       A          2         0     no         6   5   6   6\n",
      "1   F     GT3       T          2         0    yes         4   5   5   6\n",
      "2   F     LE3       T          2         3     no        10   7   8  10\n",
      "3   F     GT3       T          3         0    yes         2  15  14  15\n",
      "4   F     GT3       T          2         0    yes         4   6  10  10\n"
     ]
    }
   ],
   "source": [
    "#Analyze some of the student attributes \n",
    "#Create a new Data Frame copy\n",
    "por_df2 = por_df[['sex','famsize','Pstatus','studytime','failures','famsup','absences','G1','G2','G3']].copy()\n",
    "print (por_df2.head())\n",
    "math_df2 = math_df[['sex','famsize','Pstatus','studytime','failures','famsup','absences','G1','G2','G3']].copy()\n",
    "print (math_df2.head())"
   ]
  },
  {
   "cell_type": "markdown",
   "metadata": {
    "slideshow": {
     "slide_type": "slide"
    }
   },
   "source": [
    "The values in the 4 columns are replaced from string values to numeric values."
   ]
  },
  {
   "cell_type": "code",
   "execution_count": 4,
   "metadata": {
    "slideshow": {
     "slide_type": "slide"
    }
   },
   "outputs": [
    {
     "name": "stdout",
     "output_type": "stream",
     "text": [
      "   sex  famsize  Pstatus  studytime  failures  famsup  absences  G1  G2  G3\n",
      "0    1        1        1          2         0       0         4   0  11  11\n",
      "1    1        1        0          2         0       1         2   9  11  11\n",
      "2    1        0        0          2         0       0         6  12  13  12\n",
      "3    1        1        0          3         0       1         0  14  14  14\n",
      "4    1        1        0          2         0       1         0  11  13  13\n",
      "   sex  famsize  Pstatus  studytime  failures  famsup  absences  G1  G2  G3\n",
      "0    1        1        1          2         0       0         6   5   6   6\n",
      "1    1        1        0          2         0       1         4   5   5   6\n",
      "2    1        0        0          2         3       0        10   7   8  10\n",
      "3    1        1        0          3         0       1         2  15  14  15\n",
      "4    1        1        0          2         0       1         4   6  10  10\n"
     ]
    }
   ],
   "source": [
    "#Transform the famsize and Pstatus columns from categories to numerical\n",
    "#change the sex column\n",
    "por_df2[\"sex\"].replace([\"F\"], 1, inplace=True)\n",
    "por_df2[\"sex\"].replace([\"M\"], 0, inplace=True)\n",
    "#change the Pstatus column\n",
    "por_df2[\"Pstatus\"].replace([\"T\"], 0, inplace=True)\n",
    "por_df2[\"Pstatus\"].replace([\"A\"], 1, inplace=True)\n",
    "#change the famsize column\n",
    "por_df2[\"famsize\"].replace([\"LE3\"], 0, inplace=True)\n",
    "por_df2[\"famsize\"].replace([\"GT3\"], 1, inplace=True)\n",
    "#change the famsup column\n",
    "por_df2[\"famsup\"].replace([\"yes\"], 1, inplace=True)\n",
    "por_df2[\"famsup\"].replace([\"no\"], 0, inplace=True)\n",
    "#change the sex column\n",
    "math_df2[\"sex\"].replace([\"F\"], 1, inplace=True)\n",
    "math_df2[\"sex\"].replace([\"M\"], 0, inplace=True)\n",
    "#change the Pstatus column\n",
    "math_df2[\"Pstatus\"].replace([\"T\"], 0, inplace=True)\n",
    "math_df2[\"Pstatus\"].replace([\"A\"], 1, inplace=True)\n",
    "#change the famsize column\n",
    "math_df2[\"famsize\"].replace([\"LE3\"], 0, inplace=True)\n",
    "math_df2[\"famsize\"].replace([\"GT3\"], 1, inplace=True)\n",
    "#change the famsup column\n",
    "math_df2[\"famsup\"].replace([\"yes\"], 1, inplace=True)\n",
    "math_df2[\"famsup\"].replace([\"no\"], 0, inplace=True)\n",
    "\n",
    "print (por_df2.head())\n",
    "print (math_df2.head())"
   ]
  },
  {
   "cell_type": "markdown",
   "metadata": {
    "slideshow": {
     "slide_type": "slide"
    }
   },
   "source": [
    "The Average Grades for G1, G2, and G3 are calculated for the Portuguese and Math students."
   ]
  },
  {
   "cell_type": "code",
   "execution_count": 5,
   "metadata": {
    "slideshow": {
     "slide_type": "slide"
    }
   },
   "outputs": [
    {
     "name": "stdout",
     "output_type": "stream",
     "text": [
      "The average grade for Portuguese students in G1 is:  11.399075500770415\n",
      "The average grade for Portuguese students in G2 is:  11.570107858243452\n",
      "The average grade for Portuguese students in G3 is:  11.906009244992296\n",
      "The average grade for Math students in G1 is:  10.90886075949367\n",
      "The average grade for Math students in G2 is:  10.713924050632912\n",
      "The average grade for Math students in G3 is:  10.415189873417722\n"
     ]
    }
   ],
   "source": [
    "#Get the Average Grades for G1, G2, G3\n",
    "pG1avg = por_df2['G1'].mean()\n",
    "pG2avg = por_df2['G2'].mean()\n",
    "pG3avg = por_df2['G3'].mean()\n",
    "print (\"The average grade for Portuguese students in G1 is: \", pG1avg)\n",
    "print (\"The average grade for Portuguese students in G2 is: \", pG2avg)\n",
    "print (\"The average grade for Portuguese students in G3 is: \", pG3avg)\n",
    "mG1avg = math_df2['G1'].mean()\n",
    "mG2avg = math_df2['G2'].mean()\n",
    "mG3avg = math_df2['G3'].mean()\n",
    "print (\"The average grade for Math students in G1 is: \", mG1avg)\n",
    "print (\"The average grade for Math students in G2 is: \", mG2avg)\n",
    "print (\"The average grade for Math students in G3 is: \", mG3avg)"
   ]
  },
  {
   "cell_type": "markdown",
   "metadata": {
    "slideshow": {
     "slide_type": "slide"
    }
   },
   "source": [
    "A seaborn pair plot chart is created with the x variables as \"sex\", \"famsize\", \"Pstatus\", \"studytime\", \"failures\", \"famsup\", and \"absences\", and the y variable as \"G3\"\n",
    "\n",
    "A linear relationship between the plots is shown using the kind=\"reg\" attribute."
   ]
  },
  {
   "cell_type": "code",
   "execution_count": 6,
   "metadata": {
    "slideshow": {
     "slide_type": "slide"
    }
   },
   "outputs": [
    {
     "data": {
      "text/plain": [
       "<seaborn.axisgrid.PairGrid at 0xba35ac8>"
      ]
     },
     "execution_count": 6,
     "metadata": {},
     "output_type": "execute_result"
    },
    {
     "data": {
      "image/png": "[encoded data removed]",
      "text/plain": [
       "<Figure size 1260x180 with 7 Axes>"
      ]
     },
     "metadata": {},
     "output_type": "display_data"
    },
    {
     "data": {
      "image/png": "[encoded data removed]",
      "text/plain": [
       "<Figure size 1260x180 with 7 Axes>"
      ]
     },
     "metadata": {},
     "output_type": "display_data"
    }
   ],
   "source": [
    "#Create seaborn visualization\n",
    "sns.pairplot(por_df2, x_vars=['sex','famsize','Pstatus','studytime','failures','famsup','absences'], y_vars='G3', kind='reg')\n",
    "sns.pairplot(math_df2, x_vars=['sex','famsize','Pstatus','studytime','failures','famsup','absences'], y_vars='G3', kind='reg')"
   ]
  },
  {
   "cell_type": "markdown",
   "metadata": {
    "slideshow": {
     "slide_type": "slide"
    }
   },
   "source": [
    "A new predictor column is created with the 7 columns of 'sex','famsize','Pstatus','studytime','failures','famsup','absences'.\n",
    "\n",
    "The \"G3\" variable serves as the y value.\n",
    "\n",
    "The train and test data is created using the train_test_split function.\n",
    "\n",
    "The linreg variable is created using the LinearRegression() function.\n",
    "\n",
    "The linreg variable is fitted with the X_train and y_train data.\n",
    "\n",
    "The y_pred variable is created for the y predictions using the predict function with the X-test values.\n",
    "\n",
    "The margin of error is calculated using the metrics.mean_squared_error function.\n",
    "\n",
    "The margin of error for the 7 columns (Portuguese students) is 3.2378694569843223\n",
    "\n",
    "The margin of error for the 7 columns (Math students) is 3.9729490934424345"
   ]
  },
  {
   "cell_type": "code",
   "execution_count": 7,
   "metadata": {
    "slideshow": {
     "slide_type": "slide"
    }
   },
   "outputs": [
    {
     "name": "stdout",
     "output_type": "stream",
     "text": [
      "(486, 7)\n",
      "(163, 7)\n",
      "(486,)\n",
      "(163,)\n",
      "The Margin of Error for the 7 attributes on the Portuguese grades is:  3.2378694569843223\n"
     ]
    }
   ],
   "source": [
    "#Create new predictor columns\n",
    "X = por_df2[['sex','famsize','Pstatus','studytime','failures','famsup','absences']]\n",
    "y = por_df2['G3']\n",
    "#Create test data with default setting of 25% for testing\n",
    "X_train, X_test, y_train, y_test = train_test_split(X, y, random_state=1)\n",
    "print (X_train.shape)\n",
    "print (X_test.shape)\n",
    "print (y_train.shape)\n",
    "print (y_test.shape)\n",
    "#Create linear regression model\n",
    "linreg = LinearRegression()\n",
    "#Fit linear regression model to training data\n",
    "linreg.fit(X_train, y_train)\n",
    "#Test the model to the test data\n",
    "y_pred = linreg.predict(X_test)\n",
    "#Calculate margin of error\n",
    "por_results = np.sqrt(metrics.mean_squared_error(y_test, y_pred))\n",
    "print (\"The Margin of Error for the 7 attributes on the Portuguese grades is: \", por_results)"
   ]
  },
  {
   "cell_type": "code",
   "execution_count": 8,
   "metadata": {
    "slideshow": {
     "slide_type": "slide"
    }
   },
   "outputs": [
    {
     "name": "stdout",
     "output_type": "stream",
     "text": [
      "(296, 7)\n",
      "(99, 7)\n",
      "(296,)\n",
      "(99,)\n",
      "The Margin of Error for the 7 attributes on the Math grades is:  3.9729490934424345\n"
     ]
    }
   ],
   "source": [
    "#Create new predictor columns\n",
    "X = math_df2[['sex','famsize','Pstatus','studytime','failures','famsup','absences']]\n",
    "y = math_df2['G3']\n",
    "#Create test data with default setting of 25% for testing\n",
    "X_train, X_test, y_train, y_test = train_test_split(X, y, random_state=1)\n",
    "print (X_train.shape)\n",
    "print (X_test.shape)\n",
    "print (y_train.shape)\n",
    "print (y_test.shape)\n",
    "#Create linear regression model\n",
    "linreg3 = LinearRegression()\n",
    "#Fit linear regression model to training data\n",
    "linreg3.fit(X_train, y_train)\n",
    "#Test the model to the test data\n",
    "y_pred = linreg3.predict(X_test)\n",
    "#Calculate margin of error\n",
    "math_results = np.sqrt(metrics.mean_squared_error(y_test, y_pred))\n",
    "print (\"The Margin of Error for the 7 attributes on the Math grades is: \", math_results)"
   ]
  },
  {
   "cell_type": "markdown",
   "metadata": {
    "slideshow": {
     "slide_type": "slide"
    }
   },
   "source": [
    "A new predictor column is created for the 4 columns of 'sex','studytime','failures','absences'.\n",
    "\n",
    "The \"G3\" variable serves as the y value.\n",
    "\n",
    "The margin of error for the 4 attributes (Portuguese students) is 3.2168719953981455\n",
    "\n",
    "The margin of error for the 4 attributes (Math students) is 3.9094806035263794"
   ]
  },
  {
   "cell_type": "code",
   "execution_count": 9,
   "metadata": {
    "slideshow": {
     "slide_type": "slide"
    }
   },
   "outputs": [
    {
     "name": "stdout",
     "output_type": "stream",
     "text": [
      "(486, 4)\n",
      "(163, 4)\n",
      "(486,)\n",
      "(163,)\n",
      "The Margin of Error for the 4 attributes on the Portuguese grades is:  3.2168719953981455\n"
     ]
    }
   ],
   "source": [
    "#Create new predictor columns for 4 attributes: 'sex','studytime','failures','absences'\n",
    "X = por_df2[['sex','studytime','failures','absences']]\n",
    "y = por_df2['G3']\n",
    "#Create test data with default setting of 25% for testing\n",
    "X_train, X_test, y_train, y_test = train_test_split(X, y, random_state=1)\n",
    "print (X_train.shape)\n",
    "print (X_test.shape)\n",
    "print (y_train.shape)\n",
    "print (y_test.shape)\n",
    "#Create linear regression model\n",
    "linreg2 = LinearRegression()\n",
    "#Fit linear regression model to training data\n",
    "linreg2.fit(X_train, y_train)\n",
    "#Test the model to the test data\n",
    "y_pred = linreg2.predict(X_test)\n",
    "#Calculate margin of error\n",
    "por_results2 = np.sqrt(metrics.mean_squared_error(y_test, y_pred))\n",
    "print (\"The Margin of Error for the 4 attributes on the Portuguese grades is: \", por_results2)"
   ]
  },
  {
   "cell_type": "code",
   "execution_count": 10,
   "metadata": {
    "slideshow": {
     "slide_type": "slide"
    }
   },
   "outputs": [
    {
     "name": "stdout",
     "output_type": "stream",
     "text": [
      "(296, 4)\n",
      "(99, 4)\n",
      "(296,)\n",
      "(99,)\n",
      "The Margin of Error for the 4 attributes on the Math grades is:  3.9094806035263794\n"
     ]
    }
   ],
   "source": [
    "#Create new predictor columns for 4 attributes: 'sex','studytime','failures','absences'\n",
    "X = math_df2[['sex','studytime','failures','absences']]\n",
    "y = math_df2['G3']\n",
    "#Create test data with default setting of 25% for testing\n",
    "X_train, X_test, y_train, y_test = train_test_split(X, y, random_state=1)\n",
    "print (X_train.shape)\n",
    "print (X_test.shape)\n",
    "print (y_train.shape)\n",
    "print (y_test.shape)\n",
    "#Create linear regression model\n",
    "linreg4 = LinearRegression()\n",
    "#Fit linear regression model to training data\n",
    "linreg4.fit(X_train, y_train)\n",
    "#Test the model to the test data\n",
    "y_pred = linreg4.predict(X_test)\n",
    "#Calculate margin of error\n",
    "math_results2 = np.sqrt(metrics.mean_squared_error(y_test, y_pred))\n",
    "print (\"The Margin of Error for the 4 attributes on the Math grades is: \", math_results2)"
   ]
  },
  {
   "cell_type": "markdown",
   "metadata": {
    "slideshow": {
     "slide_type": "slide"
    }
   },
   "source": [
    "The GroupBy function was then used to analyze the average grades by the different sexes for both the Portuguese students and Math students. "
   ]
  },
  {
   "cell_type": "code",
   "execution_count": 12,
   "metadata": {
    "slideshow": {
     "slide_type": "slide"
    }
   },
   "outputs": [
    {
     "name": "stdout",
     "output_type": "stream",
     "text": [
      "   sex  G1  G2  G3\n",
      "0    1   0  11  11\n",
      "1    1   9  11  11\n",
      "2    1  12  13  12\n",
      "3    1  14  14  14\n",
      "4    1  11  13  13\n",
      "   sex  G1  G2  G3\n",
      "0    1   5   6   6\n",
      "1    1   5   5   6\n",
      "2    1   7   8  10\n",
      "3    1  15  14  15\n",
      "4    1   6  10  10\n",
      "The G1 average for Male (0) and Female (1) Portuguese students is: \n",
      "sex\n",
      "0    11.056391\n",
      "1    11.637076\n",
      "Name: G1, dtype: float64\n",
      "The G2 average for Male (0) and Female (1) Portuguese students is: \n",
      "sex\n",
      "0    11.206767\n",
      "1    11.822454\n",
      "Name: G2, dtype: float64\n",
      "The G3 average for Male (0) and Female (1) Portuguese students is: \n",
      "sex\n",
      "0    11.406015\n",
      "1    12.253264\n",
      "Name: G3, dtype: float64\n"
     ]
    }
   ],
   "source": [
    "#Find the Average Grades by different groups\n",
    "por_df3 = por_df2[['sex','G1','G2','G3']].copy()\n",
    "print (por_df3.head())\n",
    "math_df3 = math_df2[['sex','G1','G2','G3']].copy()\n",
    "print (math_df3.head())\n",
    "\n",
    "print (\"The G1 average for Male (0) and Female (1) Portuguese students is: \")\n",
    "print (por_df3.groupby('sex').G1.mean())\n",
    "\n",
    "print (\"The G2 average for Male (0) and Female (1) Portuguese students is: \")\n",
    "print (por_df3.groupby('sex').G2.mean())\n",
    "\n",
    "print (\"The G3 average for Male (0) and Female (1) Portuguese students is: \")\n",
    "print (por_df3.groupby('sex').G3.mean())\n"
   ]
  },
  {
   "cell_type": "code",
   "execution_count": 13,
   "metadata": {
    "slideshow": {
     "slide_type": "slide"
    }
   },
   "outputs": [
    {
     "name": "stdout",
     "output_type": "stream",
     "text": [
      "The G1 average for Male (0) and Female (1) Math students is: \n",
      "sex\n",
      "0    11.229947\n",
      "1    10.620192\n",
      "Name: G1, dtype: float64\n",
      "The G2 average for Male (0) and Female (1) Math students is: \n",
      "sex\n",
      "0    11.074866\n",
      "1    10.389423\n",
      "Name: G2, dtype: float64\n",
      "The G3 average for Male (0) and Female (1) Math students is: \n",
      "sex\n",
      "0    10.914439\n",
      "1     9.966346\n",
      "Name: G3, dtype: float64\n"
     ]
    }
   ],
   "source": [
    "print (\"The G1 average for Male (0) and Female (1) Math students is: \")\n",
    "print (math_df3.groupby('sex').G1.mean())\n",
    "\n",
    "print (\"The G2 average for Male (0) and Female (1) Math students is: \")\n",
    "print (math_df3.groupby('sex').G2.mean())\n",
    "\n",
    "print (\"The G3 average for Male (0) and Female (1) Math students is: \")\n",
    "print (math_df3.groupby('sex').G3.mean())"
   ]
  },
  {
   "cell_type": "markdown",
   "metadata": {
    "slideshow": {
     "slide_type": "slide"
    }
   },
   "source": [
    "## Conclusion:\n",
    "Based on the margin of error results and graphical validation, the 4 attributes ('sex','studytime','failures','absences'), are better indicators of the G1, G2 and G3 grades than 3 attributes ('famsize','Pstatus','famsup').\n",
    "\n",
    "As the graphs show, 'studytime' and 'failures' are the strongest indicators of the grades.\n",
    "\n",
    "The GroupBy function was used to calculate the grade averages by sex and Male students were found to have lower grades in Portuguese than Female students.\n",
    "\n",
    "However, for the Math grades, Male students, on average, had higher grades than Female students."
   ]
  },
  {
   "cell_type": "code",
   "execution_count": 26,
   "metadata": {
    "slideshow": {
     "slide_type": "skip"
    }
   },
   "outputs": [
    {
     "name": "stdout",
     "output_type": "stream",
     "text": [
      "  sex famsize Pstatus  studytime  failures famsup  absences  G1  G2  G3\n",
      "0   F     GT3       A          2         0     no         4   0  11  11\n",
      "1   F     GT3       T          2         0    yes         2   9  11  11\n",
      "2   F     LE3       T          2         0     no         6  12  13  12\n",
      "3   F     GT3       T          3         0    yes         0  14  14  14\n",
      "4   F     GT3       T          2         0    yes         0  11  13  13\n",
      "  sex famsize Pstatus  studytime  failures famsup  absences  G1  G2  G3\n",
      "0   F     GT3       A          2         0     no         6   5   6   6\n",
      "1   F     GT3       T          2         0    yes         4   5   5   6\n",
      "2   F     LE3       T          2         3     no        10   7   8  10\n",
      "3   F     GT3       T          3         0    yes         2  15  14  15\n",
      "4   F     GT3       T          2         0    yes         4   6  10  10\n",
      "   sex  famsize  Pstatus  studytime  failures  famsup  absences  G1  G2  G3\n",
      "0    1        1        1          2         0       0         4   0  11  11\n",
      "1    1        1        0          2         0       1         2   9  11  11\n",
      "2    1        0        0          2         0       0         6  12  13  12\n",
      "3    1        1        0          3         0       1         0  14  14  14\n",
      "4    1        1        0          2         0       1         0  11  13  13\n",
      "   sex  famsize  Pstatus  studytime  failures  famsup  absences  G1  G2  G3\n",
      "0    1        1        1          2         0       0         6   5   6   6\n",
      "1    1        1        0          2         0       1         4   5   5   6\n",
      "2    1        0        0          2         3       0        10   7   8  10\n",
      "3    1        1        0          3         0       1         2  15  14  15\n",
      "4    1        1        0          2         0       1         4   6  10  10\n",
      "The average grade for Portuguese students in G1 is:  11.399075500770415\n",
      "The average grade for Portuguese students in G2 is:  11.570107858243452\n",
      "The average grade for Portuguese students in G3 is:  11.906009244992296\n",
      "The average grade for Math students in G1 is:  10.90886075949367\n",
      "The average grade for Math students in G2 is:  10.713924050632912\n",
      "The average grade for Math students in G3 is:  10.415189873417722\n",
      "(486, 7)\n",
      "(163, 7)\n",
      "(486,)\n",
      "(163,)\n",
      "The Margin of Error for the 7 attributes on the Portuguese grades is:  3.2378694569843223\n",
      "(486, 4)\n",
      "(163, 4)\n",
      "(486,)\n",
      "(163,)\n",
      "The Margin of Error for the 4 attributes on the Portuguese grades is:  3.2168719953981455\n",
      "(296, 7)\n",
      "(99, 7)\n",
      "(296,)\n",
      "(99,)\n",
      "The Margin of Error for the 7 attributes on the Math grades is:  3.9729490934424345\n",
      "(296, 4)\n",
      "(99, 4)\n",
      "(296,)\n",
      "(99,)\n",
      "The Margin of Error for the 4 attributes on the Math grades is:  3.9094806035263794\n",
      "   sex  G1  G2  G3\n",
      "0    1   0  11  11\n",
      "1    1   9  11  11\n",
      "2    1  12  13  12\n",
      "3    1  14  14  14\n",
      "4    1  11  13  13\n",
      "   sex  G1  G2  G3\n",
      "0    1   5   6   6\n",
      "1    1   5   5   6\n",
      "2    1   7   8  10\n",
      "3    1  15  14  15\n",
      "4    1   6  10  10\n",
      "The G1 average for Male (0) and Female (1) Portuguese students is: \n",
      "sex\n",
      "0    11.056391\n",
      "1    11.637076\n",
      "Name: G1, dtype: float64\n",
      "The G2 average for Male (0) and Female (1) Portuguese students is: \n",
      "sex\n",
      "0    11.206767\n",
      "1    11.822454\n",
      "Name: G2, dtype: float64\n",
      "The G3 average for Male (0) and Female (1) Portuguese students is: \n",
      "sex\n",
      "0    11.406015\n",
      "1    12.253264\n",
      "Name: G3, dtype: float64\n",
      "The G1 average for Male (0) and Female (1) Math students is: \n",
      "sex\n",
      "0    11.229947\n",
      "1    10.620192\n",
      "Name: G1, dtype: float64\n",
      "The G2 average for Male (0) and Female (1) Math students is: \n",
      "sex\n",
      "0    11.074866\n",
      "1    10.389423\n",
      "Name: G2, dtype: float64\n",
      "The G3 average for Male (0) and Female (1) Math students is: \n",
      "sex\n",
      "0    10.914439\n",
      "1     9.966346\n",
      "Name: G3, dtype: float64\n"
     ]
    },
    {
     "data": {
      "image/png": "[encoded data removed]",
      "text/plain": [
       "<Figure size 1260x180 with 7 Axes>"
      ]
     },
     "metadata": {},
     "output_type": "display_data"
    },
    {
     "data": {
      "image/png": "[encoded data removed]",
      "text/plain": [
       "<Figure size 1260x180 with 7 Axes>"
      ]
     },
     "metadata": {},
     "output_type": "display_data"
    }
   ],
   "source": [
    "import numpy as np\n",
    "import pandas as pd\n",
    "from datetime import date\n",
    "from pandas import DataFrame, Series\n",
    "import sqlalchemy as sqla\n",
    "import mysql.connector\n",
    "import matplotlib as mpl\n",
    "import matplotlib.pyplot as plt\n",
    "%matplotlib inline\n",
    "import seaborn as sns\n",
    "from sklearn import metrics\n",
    "from sklearn.cross_validation import train_test_split\n",
    "from sklearn.linear_model import LinearRegression\n",
    "\n",
    "#Create the por_df DataFrame from the student-por CSV file from the web\n",
    "url = \"https://raw.githubusercontent.com/jchan3/IS-362/master/student-por.csv\"\n",
    "por_df = pd.read_csv(url, delimiter=';')\n",
    "#print (por_df.head())\n",
    "\n",
    "#connect to Mysql database final_project\n",
    "cnx = mysql.connector.connect(host='localhost',database='final_project',user='user2',password='temp')\n",
    "\n",
    "#create sql query to collect data from the studentmat table in the RDBMS\n",
    "sql = '''SELECT *\n",
    "FROM studentmat'''\n",
    "\n",
    "#convert the sql query results into the math_df DataFrame\n",
    "math_df = pd.read_sql(sql, con=cnx)\n",
    "#por_df = pd.read_sql(sql2, con=cnx)\n",
    "\n",
    "#display the DataFrame results\n",
    "#print (math_df.head())\n",
    "#print (por_df.head())\n",
    "\n",
    "#close the Mysql database connection\n",
    "cnx.close()\n",
    "\n",
    "#Analyze some of the student attributes \n",
    "#Create a new Data Frame copy\n",
    "por_df2 = por_df[['sex','famsize','Pstatus','studytime','failures','famsup','absences','G1','G2','G3']].copy()\n",
    "print (por_df2.head())\n",
    "math_df2 = math_df[['sex','famsize','Pstatus','studytime','failures','famsup','absences','G1','G2','G3']].copy()\n",
    "print (math_df2.head())\n",
    "\n",
    "#Transform the famsize and Pstatus columns from categories to numerical\n",
    "#change the sex column\n",
    "por_df2[\"sex\"].replace([\"F\"], 1, inplace=True)\n",
    "por_df2[\"sex\"].replace([\"M\"], 0, inplace=True)\n",
    "#change the Pstatus column\n",
    "por_df2[\"Pstatus\"].replace([\"T\"], 0, inplace=True)\n",
    "por_df2[\"Pstatus\"].replace([\"A\"], 1, inplace=True)\n",
    "#change the famsize column\n",
    "por_df2[\"famsize\"].replace([\"LE3\"], 0, inplace=True)\n",
    "por_df2[\"famsize\"].replace([\"GT3\"], 1, inplace=True)\n",
    "#change the famsup column\n",
    "por_df2[\"famsup\"].replace([\"yes\"], 1, inplace=True)\n",
    "por_df2[\"famsup\"].replace([\"no\"], 0, inplace=True)\n",
    "#change the sex column\n",
    "math_df2[\"sex\"].replace([\"F\"], 1, inplace=True)\n",
    "math_df2[\"sex\"].replace([\"M\"], 0, inplace=True)\n",
    "#change the Pstatus column\n",
    "math_df2[\"Pstatus\"].replace([\"T\"], 0, inplace=True)\n",
    "math_df2[\"Pstatus\"].replace([\"A\"], 1, inplace=True)\n",
    "#change the famsize column\n",
    "math_df2[\"famsize\"].replace([\"LE3\"], 0, inplace=True)\n",
    "math_df2[\"famsize\"].replace([\"GT3\"], 1, inplace=True)\n",
    "#change the famsup column\n",
    "math_df2[\"famsup\"].replace([\"yes\"], 1, inplace=True)\n",
    "math_df2[\"famsup\"].replace([\"no\"], 0, inplace=True)\n",
    "\n",
    "print (por_df2.head())\n",
    "print (math_df2.head())\n",
    "\n",
    "#Get the Average Grades for G1, G2, G3\n",
    "pG1avg = por_df2['G1'].mean()\n",
    "pG2avg = por_df2['G2'].mean()\n",
    "pG3avg = por_df2['G3'].mean()\n",
    "print (\"The average grade for Portuguese students in G1 is: \", pG1avg)\n",
    "print (\"The average grade for Portuguese students in G2 is: \", pG2avg)\n",
    "print (\"The average grade for Portuguese students in G3 is: \", pG3avg)\n",
    "mG1avg = math_df2['G1'].mean()\n",
    "mG2avg = math_df2['G2'].mean()\n",
    "mG3avg = math_df2['G3'].mean()\n",
    "print (\"The average grade for Math students in G1 is: \", mG1avg)\n",
    "print (\"The average grade for Math students in G2 is: \", mG2avg)\n",
    "print (\"The average grade for Math students in G3 is: \", mG3avg)\n",
    "\n",
    "#Create seaborn visualization\n",
    "sns.pairplot(por_df2, x_vars=['sex','famsize','Pstatus','studytime','failures','famsup','absences'], y_vars='G3', kind='reg')\n",
    "sns.pairplot(math_df2, x_vars=['sex','famsize','Pstatus','studytime','failures','famsup','absences'], y_vars='G3', kind='reg')\n",
    "\n",
    "#Create new predictor columns\n",
    "X = por_df2[['sex','famsize','Pstatus','studytime','failures','famsup','absences']]\n",
    "y = por_df2['G3']\n",
    "#Create test data with default setting of 25% for testing\n",
    "X_train, X_test, y_train, y_test = train_test_split(X, y, random_state=1)\n",
    "print (X_train.shape)\n",
    "print (X_test.shape)\n",
    "print (y_train.shape)\n",
    "print (y_test.shape)\n",
    "#Create linear regression model\n",
    "linreg = LinearRegression()\n",
    "#Fit linear regression model to training data\n",
    "linreg.fit(X_train, y_train)\n",
    "#Test the model to the test data\n",
    "y_pred = linreg.predict(X_test)\n",
    "#Calculate margin of error\n",
    "por_results = np.sqrt(metrics.mean_squared_error(y_test, y_pred))\n",
    "print (\"The Margin of Error for the 7 attributes on the Portuguese grades is: \", por_results)\n",
    "\n",
    "#Create new predictor columns for 4 attributes: 'sex','studytime','failures','absences'\n",
    "X = por_df2[['sex','studytime','failures','absences']]\n",
    "y = por_df2['G3']\n",
    "#Create test data with default setting of 25% for testing\n",
    "X_train, X_test, y_train, y_test = train_test_split(X, y, random_state=1)\n",
    "print (X_train.shape)\n",
    "print (X_test.shape)\n",
    "print (y_train.shape)\n",
    "print (y_test.shape)\n",
    "#Create linear regression model\n",
    "linreg2 = LinearRegression()\n",
    "#Fit linear regression model to training data\n",
    "linreg2.fit(X_train, y_train)\n",
    "#Test the model to the test data\n",
    "y_pred = linreg2.predict(X_test)\n",
    "#Calculate margin of error\n",
    "por_results2 = np.sqrt(metrics.mean_squared_error(y_test, y_pred))\n",
    "print (\"The Margin of Error for the 4 attributes on the Portuguese grades is: \", por_results2)\n",
    "\n",
    "#Create new predictor columns\n",
    "X = math_df2[['sex','famsize','Pstatus','studytime','failures','famsup','absences']]\n",
    "y = math_df2['G3']\n",
    "#Create test data with default setting of 25% for testing\n",
    "X_train, X_test, y_train, y_test = train_test_split(X, y, random_state=1)\n",
    "print (X_train.shape)\n",
    "print (X_test.shape)\n",
    "print (y_train.shape)\n",
    "print (y_test.shape)\n",
    "#Create linear regression model\n",
    "linreg3 = LinearRegression()\n",
    "#Fit linear regression model to training data\n",
    "linreg3.fit(X_train, y_train)\n",
    "#Test the model to the test data\n",
    "y_pred = linreg3.predict(X_test)\n",
    "#Calculate margin of error\n",
    "math_results = np.sqrt(metrics.mean_squared_error(y_test, y_pred))\n",
    "print (\"The Margin of Error for the 7 attributes on the Math grades is: \", math_results)\n",
    "\n",
    "#Create new predictor columns for 4 attributes: 'sex','studytime','failures','absences'\n",
    "X = math_df2[['sex','studytime','failures','absences']]\n",
    "y = math_df2['G3']\n",
    "#Create test data with default setting of 25% for testing\n",
    "X_train, X_test, y_train, y_test = train_test_split(X, y, random_state=1)\n",
    "print (X_train.shape)\n",
    "print (X_test.shape)\n",
    "print (y_train.shape)\n",
    "print (y_test.shape)\n",
    "#Create linear regression model\n",
    "linreg4 = LinearRegression()\n",
    "#Fit linear regression model to training data\n",
    "linreg4.fit(X_train, y_train)\n",
    "#Test the model to the test data\n",
    "y_pred = linreg4.predict(X_test)\n",
    "#Calculate margin of error\n",
    "math_results2 = np.sqrt(metrics.mean_squared_error(y_test, y_pred))\n",
    "print (\"The Margin of Error for the 4 attributes on the Math grades is: \", math_results2)\n",
    "\n",
    "#Find the Average Grades by different groups\n",
    "por_df3 = por_df2[['sex','G1','G2','G3']].copy()\n",
    "print (por_df3.head())\n",
    "math_df3 = math_df2[['sex','G1','G2','G3']].copy()\n",
    "print (math_df3.head())\n",
    "\n",
    "print (\"The G1 average for Male (0) and Female (1) Portuguese students is: \")\n",
    "print (por_df3.groupby('sex').G1.mean())\n",
    "\n",
    "print (\"The G2 average for Male (0) and Female (1) Portuguese students is: \")\n",
    "print (por_df3.groupby('sex').G2.mean())\n",
    "\n",
    "print (\"The G3 average for Male (0) and Female (1) Portuguese students is: \")\n",
    "print (por_df3.groupby('sex').G3.mean())\n",
    "\n",
    "print (\"The G1 average for Male (0) and Female (1) Math students is: \")\n",
    "print (math_df3.groupby('sex').G1.mean())\n",
    "\n",
    "print (\"The G2 average for Male (0) and Female (1) Math students is: \")\n",
    "print (math_df3.groupby('sex').G2.mean())\n",
    "\n",
    "print (\"The G3 average for Male (0) and Female (1) Math students is: \")\n",
    "print (math_df3.groupby('sex').G3.mean())\n"
   ]
  },
  {
   "cell_type": "code",
   "execution_count": null,
   "metadata": {
    "slideshow": {
     "slide_type": "skip"
    }
   },
   "outputs": [],
   "source": []
  }
 ],
 "metadata": {
  "celltoolbar": "Slideshow",
  "kernelspec": {
   "display_name": "Python 3",
   "language": "python",
   "name": "python3"
  },
  "language_info": {
   "codemirror_mode": {
    "name": "ipython",
    "version": 3
   },
   "file_extension": ".py",
   "mimetype": "text/x-python",
   "name": "python",
   "nbconvert_exporter": "python",
   "pygments_lexer": "ipython3",
   "version": "3.6.5"
  }
 },
 "nbformat": 4,
 "nbformat_minor": 2
}
