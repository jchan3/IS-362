{
 "cells": [
  {
   "cell_type": "markdown",
   "metadata": {},
   "source": [
    "Project 3 by Joe Chan\n",
    "======================"
   ]
  },
  {
   "cell_type": "markdown",
   "metadata": {},
   "source": [
    "## Python Code:\n",
    "```python\n",
    "import numpy as np\n",
    "import pandas as pd\n",
    "from datetime import date\n",
    "from pandas import DataFrame, Series\n",
    "import sqlalchemy as sqla\n",
    "import mysql.connector\n",
    "\n",
    "#connect to Mysql database chinook\n",
    "cnx = mysql.connector.connect(host='localhost',database='chinook',user='user2',password='temp')\n",
    "\n",
    "#create sql query\n",
    "sql = '''SELECT Customer.LastName, Customer.FirstName, Track.Name, Album.Title\n",
    "FROM ((((Customer\n",
    "INNER JOIN Invoice ON Customer.CustomerId = Invoice.CustomerId)\n",
    "INNER JOIN InvoiceLine ON Invoice.InvoiceId = InvoiceLine.InvoiceId)\n",
    "INNER JOIN Track ON InvoiceLine.TrackId = Track.TrackId)\n",
    "INNER JOIN Album ON Track.AlbumId = Album.AlbumId)\n",
    "ORDER BY Customer.LastName, Customer.FirstName'''\n",
    "\n",
    "#convert the sql query results into a DataFrame\n",
    "df = pd.read_sql(sql, con=cnx)\n",
    "\n",
    "#display the datafile results\n",
    "print (df.head())\n",
    "\n",
    "#close the Mysql database connection\n",
    "cnx.close()\n",
    "```"
   ]
  },
  {
   "cell_type": "markdown",
   "metadata": {},
   "source": [
    "Description\n",
    "-----------------------------------------------\n",
    "The \"import mysql.connector\" command was used to import the Mysql connector tool to connect to the Mysql database.\n",
    "\n",
    "The \"mysql.connector.connect\" command was used to connect to the Mysql database with the variable \"cnx\".\n",
    "\n",
    "The Mysql database was located on the localhost and was named \"chinook\" with the user as \"user2\" and password \"temp\".\n",
    "\n",
    "The \"sql\" variable contains the SQL code to query the database.\n",
    "\n",
    "The \"pd.read_sql(sql, con=cnx)\" function was used to convert the SQL query results into a Pandas DataFrame (\"df\") using the \"sql\" query variable and the \"cnx\" connection to the Mysql database.\n",
    "\n",
    "The head() function displayed the first 5 results of the new DataFrame.\n",
    "\n",
    "The close() function closed the MySql database connection."
   ]
  },
  {
   "cell_type": "code",
   "execution_count": 5,
   "metadata": {},
   "outputs": [
    {
     "name": "stdout",
     "output_type": "stream",
     "text": [
      "  LastName FirstName                                               Name  \\\n",
      "0  Almeida   Roberto                            Right Next Door to Hell   \n",
      "1  Almeida   Roberto                                     In The Evening   \n",
      "2  Almeida   Roberto                                   Fool In The Rain   \n",
      "3  Almeida   Roberto  Saudade Dos Aviões Da Panair (Conversando No Bar)   \n",
      "4  Almeida   Roberto                             Caso Você Queira Saber   \n",
      "\n",
      "                     Title  \n",
      "0      Use Your Illusion I  \n",
      "1  In Through The Out Door  \n",
      "2  In Through The Out Door  \n",
      "3                    Minas  \n",
      "4                    Minas  \n"
     ]
    }
   ],
   "source": [
    "import numpy as np\n",
    "import pandas as pd\n",
    "from datetime import date\n",
    "from pandas import DataFrame, Series\n",
    "import sqlalchemy as sqla\n",
    "import mysql.connector\n",
    "\n",
    "#connect to Mysql database chinook\n",
    "cnx = mysql.connector.connect(host='localhost',database='chinook',user='user2',password='temp')\n",
    "\n",
    "#create sql query\n",
    "sql = '''SELECT Customer.LastName, Customer.FirstName, Track.Name, Album.Title\n",
    "FROM ((((Customer\n",
    "INNER JOIN Invoice ON Customer.CustomerId = Invoice.CustomerId)\n",
    "INNER JOIN InvoiceLine ON Invoice.InvoiceId = InvoiceLine.InvoiceId)\n",
    "INNER JOIN Track ON InvoiceLine.TrackId = Track.TrackId)\n",
    "INNER JOIN Album ON Track.AlbumId = Album.AlbumId)\n",
    "ORDER BY Customer.LastName, Customer.FirstName'''\n",
    "\n",
    "#convert the sql query results into a DataFrame\n",
    "df = pd.read_sql(sql, con=cnx)\n",
    "\n",
    "#display the datafile results\n",
    "print (df.head())\n",
    "\n",
    "#close the Mysql database connection\n",
    "cnx.close()\n"
   ]
  },
  {
   "cell_type": "code",
   "execution_count": 1,
   "metadata": {},
   "outputs": [],
   "source": []
  },
  {
   "cell_type": "code",
   "execution_count": null,
   "metadata": {},
   "outputs": [],
   "source": []
  }
 ],
 "metadata": {
  "kernelspec": {
   "display_name": "Python 3",
   "language": "python",
   "name": "python3"
  },
  "language_info": {
   "codemirror_mode": {
    "name": "ipython",
    "version": 3
   },
   "file_extension": ".py",
   "mimetype": "text/x-python",
   "name": "python",
   "nbconvert_exporter": "python",
   "pygments_lexer": "ipython3",
   "version": "3.6.5"
  }
 },
 "nbformat": 4,
 "nbformat_minor": 2
}
