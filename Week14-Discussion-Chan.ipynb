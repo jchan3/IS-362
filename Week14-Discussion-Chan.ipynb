{
 "cells": [
  {
   "cell_type": "markdown",
   "metadata": {},
   "source": [
    "Week 14 Discussion by Joe Chan\n",
    "============================"
   ]
  },
  {
   "cell_type": "markdown",
   "metadata": {},
   "source": [
    "Scenario Design:\n",
    "-----------------------------------------------\n",
    "\n",
    "Recommender system website: Walmart.com Product Page\n",
    "\n",
    "(1) Who are your target users?\n",
    "\n",
    "Customers who are viewing a product page on Walmart.com and are ready to make a purchase.  The customers have either specifically searched for a specific product, a category of products, or have casually browsed to a product page. \n",
    "\n",
    "(2) What are their key goals?\n",
    "\n",
    "Customers are seeking product specifications, product photos, pricing information and comparison shopping.  The customers may be ready to purchase immediately, or they may seek out pricing information and return later when they have comparison shopped and are ready to make the purchase based on price, quality, or reliability.  The customers may also seek to bundle purchases together. \n",
    "\n",
    "(3) How can you help them accomplish those goals?\n",
    "\n",
    "The customers viewing products on Walmart.com are seeking information and education on specific products to purchase.  Walmart.com wants to help customers not just find specific products but also make it easier to comparison shop for similar products.  These similar products can either be bundled with the original product, or be purchased instead of the original product.  \n",
    "\n",
    "While customers may be overwhelmed with product recommendations, the opportunity to comparison shop on Walmart.com will make the customer stay on the website instead of browsing a competitor’s website for competitive products.  By viewing similar products, the customer of Walmart.com will be satisfied in conducting sufficient shopping research and feel more confident and ready to buy the product.  The customer has reviewed several products and is able to decide on a product based on their personal criteria ranging from price, or product photos, or product specifications.  The customer will feel confident and ready that the product meets their needs at the lowest price.  \n",
    "\n",
    "Walmart.com has several recommendation lists that are displayed on each product page.  The first list shows products that “Customers have also considered.”  These are products that are commonly considered (but not purchased) with the current product page.  These may actually be competing products.  The next list is “Customers also bought these products.”  These products have been actually bought at the same time as the current product page.  These may not be competing products but compatible products.  The third recommendation list is from “Customers also viewed these products.”  This is a list of products that have been specifically viewed (but not purchased) with the current product page.  These may also be directly competing products.  The last list is the “related products” list which is a list of products in the same category but may not be competing directly with the product page. \n",
    "\n",
    "Walmart.com also lists many advertisements of products that have been paid for by competing companies.  These advertisements are different than recommendations because they were not compiled through an algorithm, but specifically shown because the company has purchased an advertisement that they want pushed out to the consumers ahead of naturally compiled recommendations. \n",
    "\n",
    "Another list is the “Sponsored Products” list.  This is a list of products that are not naturally compiled as recommendations.  Instead, the sponsored products list shows products that have been pushed to consumers.  Since they are not naturally compiled as popular, the customer may be less trustful of the “Sponsored Products” and more hesitant to buy products that have not been naturally recommended by similar customers. \n",
    "\n",
    "Lastly, there is a list of products “Inspired by your browsing history.”  This shows products that are related and often in the same category of past product searches.  This list may contain products from several different categories if previous searches were conducted in different categories.  \n",
    "\n",
    "Scenario Design should be performed twice to verify that the organization has created a webpage that satisfied the customer’s needs.  The first analysis is created by the organization as it attempts to meet the customer’s expectations.  The second analysis should be conducted for the organization’s customers to determine if the webpage matches the expectations of those customers.  The customers must verify that the webpage meets their expectations and delivers recommendations that are accurate, beneficial, and helpful.  If the recommendation system fails to live up to expectations, then customers will buy less products and seek out competing websites that offer better options for product comparison and product offerings.  \n"
   ]
  },
  {
   "cell_type": "markdown",
   "metadata": {},
   "source": [
    "Reverse Engineer:\n",
    "-----------------------------------------------\n",
    "\n",
    "The Walmart.com product page is very comprehensive.  At the top of the webpage is a search bar that is able to rapidly process queries and deliver search results quickly.  The top left of the product page displays several graphical images of the product, along with the ability to zoom for a closer look.  The right side of page displays the Product name, a star rating, the number of user reviews, and the product price.  There is also a display option for free shipping or free local store pickup.  Below that is a form to select the quantity to buy and a link to add the product to the shopping cart.  \n",
    "\t\n",
    "The “Customers also considered” list seems to be compiled using click views of customers (and not purchase history).  The algorithm must have used cookies to track users when they visited the product webpage, and similar products from the search results.  The “Customers also bought these products” list seems to be compiled from a list of customer purchase history when two or more products were added to the shopping cart in the same session and purchased together at the same time.  This list would have required a database of purchase histories.  \n",
    "\t\n",
    "The “Customers also viewed these products” seems similar to the “Customers also considered” list.  It may just be another reason for Walmart to show products to the consumer and encourage more clicks and visit time to the website.  The “browsing history” list is a list compiled from the current shopping session and requires only temporary web cookies.  By recording every product viewed in the shopping session, the list compiles products in the same category as products viewed earlier.  This list helps prevent Attention Deficit where customers view too many products and forget their original intent.  By reminding the consumer of the products they browsed earlier may inspire the customer to make the purchase instead of forgetting about it. \n"
   ]
  },
  {
   "cell_type": "markdown",
   "metadata": {},
   "source": [
    "Specific Recommendations:\n",
    "-----------------------------------------------\n",
    "   \n",
    "Walmart.com does a good job of showing recommendations to customers.  The sponsored ads may encourage sales of newer or less popular items.  The recommendation lists seems to promote the most popularly viewed or purchased products.  This may prevent newer or less popular items from being displayed even though they might match the preferences of the customer.  Thus, there is a delicate balance of promoting the most popular related items, or promoting newer products.  The customer is primarily seeking education when they are comparing products displayed by a recommender system.\n",
    "\t\n",
    "Most consumers want to research several products before making a purchase.  This is similar to shopping behavior in a department store, where a consumer can view, hold, and compare several competing products at the same time.  By replicating this product comparison experience, customers will be more confident that they are making the correct purchase based on either price, quality, or other factors, and lessen buyer’s remorse.  Modern consumers want choice and control.  Recommender systems provide relevant products that not only educate consumers about their choices, but also build up the reputation of the website for providing consumers with everything they want and the options to fulfill their every desire.\n",
    "\t\n",
    "One confusing aspect was that the lists of “Customer viewed”, “Customer considered” and “Customer purchased” often contained the same items.  This may be confusing to the customer because they are not seeing other options.  It is important that Walmart display many different items for each list, otherwise the three lists become redundant.  Each list does seem to be compiled from different sources, purchase history or browser history.  But often the same products were both viewed and then purchased, thus making the Recommender list similar and redundant.  Walmart.com must ensure customers are seeing different items and not repeat items. \n"
   ]
  },
  {
   "cell_type": "code",
   "execution_count": null,
   "metadata": {},
   "outputs": [],
   "source": []
  }
 ],
 "metadata": {
  "kernelspec": {
   "display_name": "Python 3",
   "language": "python",
   "name": "python3"
  },
  "language_info": {
   "codemirror_mode": {
    "name": "ipython",
    "version": 3
   },
   "file_extension": ".py",
   "mimetype": "text/x-python",
   "name": "python",
   "nbconvert_exporter": "python",
   "pygments_lexer": "ipython3",
   "version": "3.6.5"
  }
 },
 "nbformat": 4,
 "nbformat_minor": 2
}
