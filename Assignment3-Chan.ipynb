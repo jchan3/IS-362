{
 "cells": [
  {
   "cell_type": "markdown",
   "metadata": {},
   "source": [
    "Assignment 3 by Joe Chan\n",
    "======================"
   ]
  },
  {
   "cell_type": "markdown",
   "metadata": {},
   "source": [
    "Python Code:\n",
    "```python\n",
    "import numpy as np\n",
    "import pandas as pd\n",
    "cont = \"y\"\n",
    "miles = int(input(\"Enter Total Mileage: \"))\n",
    "s = pd.Series(miles)\n",
    "while (cont == \"y\"):\n",
    "    miles = int(input(\"Enter Total Mileage: \"))\n",
    "    s2 = pd.Series(miles)\n",
    "    last = s[-1:].values[0]\n",
    "    daily = miles - last\n",
    "    s = s.append(s2, ignore_index=True)\n",
    "    print (\"Daily Miles is: \", daily)\n",
    "    cont = str(raw_input(\"Continue(y/n)?\"))\n",
    "\n",
    "```"
   ]
  },
  {
   "cell_type": "markdown",
   "metadata": {},
   "source": [
    "In Assignment 3, the task was to create a pandas Series object that holds the cumulative miles at the end of each day.\n",
    "The Python program shows the total miles that you rode each day.  "
   ]
  },
  {
   "cell_type": "markdown",
   "metadata": {},
   "source": [
    "The user must enter in the \"Total Mileage\" from the odometer at the end of each day as input. \n",
    "The pandas Series object will save the odometer reading by appending it to the object. \n",
    "The Python program will then calculate and display the daily mileage ridden."
   ]
  }
 ],
 "metadata": {
  "kernelspec": {
   "display_name": "Python 3",
   "language": "python",
   "name": "python3"
  },
  "language_info": {
   "codemirror_mode": {
    "name": "ipython",
    "version": 3
   },
   "file_extension": ".py",
   "mimetype": "text/x-python",
   "name": "python",
   "nbconvert_exporter": "python",
   "pygments_lexer": "ipython3",
   "version": "3.6.5"
  }
 },
 "nbformat": 4,
 "nbformat_minor": 2
}
