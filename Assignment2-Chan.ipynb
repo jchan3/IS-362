{
 "cells": [
  {
   "cell_type": "markdown",
   "metadata": {},
   "source": [
    "Assignment 2 by Joe Chan\n",
    "--------------------------------------"
   ]
  },
  {
   "cell_type": "markdown",
   "metadata": {},
   "source": [
    "Using the zip() function\n",
    "==================="
   ]
  },
  {
   "cell_type": "markdown",
   "metadata": {},
   "source": [
    "```zip``` **transforms multiple lists** into a single list of tuples of corresponding elements"
   ]
  },
  {
   "cell_type": "markdown",
   "metadata": {},
   "source": [
    "Python Code:\n",
    "```python\n",
    "list1 = ['a','b','c']\n",
    "list2 = [1, 2, 3]\n",
    "zip(list1, list2)\n",
    "```"
   ]
  },
  {
   "cell_type": "markdown",
   "metadata": {},
   "source": [
    "this code returns **[('a', 1), ('b', 2), ('c', 3)]**."
   ]
  },
  {
   "cell_type": "markdown",
   "metadata": {},
   "source": [
    "If the lists are different lengths, ```zip``` stops when the first list ends."
   ]
  },
  {
   "cell_type": "markdown",
   "metadata": {},
   "source": [
    "Lists can also be unzipped."
   ]
  },
  {
   "cell_type": "markdown",
   "metadata": {},
   "source": [
    "Python Code:\n",
    "```python\n",
    "pairs = [('a', 1),('b', 2),('c', 3)]\n",
    "letters, numbers = zip(*pairs)\n",
    "```"
   ]
  },
  {
   "cell_type": "markdown",
   "metadata": {},
   "source": [
    "this code returns **[('a', 'b', 'c'), ('1', '2', '3')]**."
   ]
  },
  {
   "cell_type": "markdown",
   "metadata": {},
   "source": [
    "The asterisk performs *argument unpacking*.  This uses the elements of **pairs** as individual arguments to ```zip```. "
   ]
  }
 ],
 "metadata": {
  "kernelspec": {
   "display_name": "Python 3",
   "language": "python",
   "name": "python3"
  },
  "language_info": {
   "codemirror_mode": {
    "name": "ipython",
    "version": 3
   },
   "file_extension": ".py",
   "mimetype": "text/x-python",
   "name": "python",
   "nbconvert_exporter": "python",
   "pygments_lexer": "ipython3",
   "version": "3.6.5"
  }
 },
 "nbformat": 4,
 "nbformat_minor": 2
}
